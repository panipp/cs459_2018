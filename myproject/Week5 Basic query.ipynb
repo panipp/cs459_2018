{
 "cells": [
  {
   "cell_type": "code",
   "execution_count": 1,
   "metadata": {},
   "outputs": [
    {
     "data": {
      "text/plain": [
       "<QuerySet [<Product: beef>, <Product: chicken>, <Product: pork>, <Product: chili>, <Product: carrot>]>"
      ]
     },
     "execution_count": 1,
     "metadata": {},
     "output_type": "execute_result"
    }
   ],
   "source": [
    "Product.objects.all()"
   ]
  },
  {
   "cell_type": "code",
   "execution_count": 7,
   "metadata": {},
   "outputs": [
    {
     "name": "stdout",
     "output_type": "stream",
     "text": [
      "1 beef M 500.00 beef.jpg\n",
      "2 chicken M 200.00 chicken.png\n",
      "3 pork M 350.00 pig.png\n",
      "4 chili V 5.00 chili.jpg\n",
      "5 carrot V 12.00 carrot.jpg\n",
      "6 rabbit M 123.00 pic3.jpg\n"
     ]
    }
   ],
   "source": [
    "for i in Product.objects.all():\n",
    "    print(i.pk, i.name, i.category, i.price, i.image)"
   ]
  },
  {
   "cell_type": "code",
   "execution_count": 5,
   "metadata": {},
   "outputs": [
    {
     "name": "stdout",
     "output_type": "stream",
     "text": [
      "beef M 500.00 beef.jpg\n",
      "chicken M 200.00 chicken.png\n",
      "pork M 350.00 pig.png\n",
      "chili V 5.00 chili.jpg\n",
      "carrot V 12.00 carrot.jpg\n",
      "rabbit M 123.00 pic3.jpg\n"
     ]
    }
   ],
   "source": [
    "for i in Product.objects.all():\n",
    "    print(i.name, i.category, i.price, i.image)"
   ]
  },
  {
   "cell_type": "code",
   "execution_count": 6,
   "metadata": {},
   "outputs": [
    {
     "name": "stdout",
     "output_type": "stream",
     "text": [
      "chili V 5.00 chili.jpg\n",
      "carrot V 12.00 carrot.jpg\n"
     ]
    }
   ],
   "source": [
    "for i in Product.objects.filter(category='V'):\n",
    "    print(i.name, i.category, i.price, i.image)"
   ]
  },
  {
   "cell_type": "code",
   "execution_count": 16,
   "metadata": {},
   "outputs": [
    {
     "name": "stdout",
     "output_type": "stream",
     "text": [
      "<class 'myapp.models.Product'>\n",
      "4 chili\n"
     ]
    }
   ],
   "source": [
    "x = Product.objects.get(pk=4)\n",
    "print(type(x))\n",
    "print(x.pk, x)"
   ]
  },
  {
   "cell_type": "code",
   "execution_count": 18,
   "metadata": {},
   "outputs": [
    {
     "name": "stdout",
     "output_type": "stream",
     "text": [
      "<class 'django.db.models.query.QuerySet'>\n",
      "SELECT \"myapp_product\".\"id\", \"myapp_product\".\"name\", \"myapp_product\".\"price\", \"myapp_product\".\"category\", \"myapp_product\".\"image\" FROM \"myapp_product\"\n",
      "beef\n",
      "chicken\n",
      "pork\n",
      "chili\n",
      "carrot\n",
      "rabbit\n",
      "product_y\n"
     ]
    }
   ],
   "source": [
    "x = Product.objects.all()\n",
    "print(type(x))\n",
    "print(x.query)\n",
    "for i in x:\n",
    "    print(i)"
   ]
  },
  {
   "cell_type": "code",
   "execution_count": 20,
   "metadata": {},
   "outputs": [
    {
     "name": "stdout",
     "output_type": "stream",
     "text": [
      "SELECT \"myapp_product\".\"id\", \"myapp_product\".\"name\", \"myapp_product\".\"price\", \"myapp_product\".\"category\", \"myapp_product\".\"image\" FROM \"myapp_product\" WHERE \"myapp_product\".\"category\" = V\n"
     ]
    }
   ],
   "source": [
    "x = Product.objects.filter(category='V')\n",
    "print(x.query)"
   ]
  },
  {
   "cell_type": "code",
   "execution_count": 21,
   "metadata": {},
   "outputs": [
    {
     "name": "stdout",
     "output_type": "stream",
     "text": [
      "beef\n",
      "chicken\n",
      "pork\n",
      "chili\n",
      "carrot\n",
      "rabbit\n",
      "product_y\n"
     ]
    }
   ],
   "source": [
    "for p in Product.objects.raw('SELECT * FROM myapp_product'):\n",
    "    print(p)"
   ]
  },
  {
   "cell_type": "code",
   "execution_count": 22,
   "metadata": {},
   "outputs": [
    {
     "name": "stdout",
     "output_type": "stream",
     "text": [
      "SELECT \"myapp_product\".\"id\", \"myapp_product\".\"name\", \"myapp_product\".\"price\", \"myapp_product\".\"category\", \"myapp_product\".\"image\" FROM \"myapp_product\" WHERE \"myapp_product\".\"price\" = 200\n"
     ]
    }
   ],
   "source": [
    "x = Product.objects.filter(price=200)\n",
    "print(x.query)"
   ]
  },
  {
   "cell_type": "code",
   "execution_count": 23,
   "metadata": {},
   "outputs": [
    {
     "name": "stdout",
     "output_type": "stream",
     "text": [
      "SELECT \"myapp_product\".\"id\", \"myapp_product\".\"name\", \"myapp_product\".\"price\", \"myapp_product\".\"category\", \"myapp_product\".\"image\" FROM \"myapp_product\" WHERE \"myapp_product\".\"price\" < 200\n"
     ]
    }
   ],
   "source": [
    "x = Product.objects.filter(price__lt=200)\n",
    "print(x.query)"
   ]
  },
  {
   "cell_type": "code",
   "execution_count": 24,
   "metadata": {},
   "outputs": [
    {
     "name": "stdout",
     "output_type": "stream",
     "text": [
      "SELECT \"myapp_product\".\"id\", \"myapp_product\".\"name\", \"myapp_product\".\"price\", \"myapp_product\".\"category\", \"myapp_product\".\"image\" FROM \"myapp_product\" WHERE \"myapp_product\".\"price\" <= 200\n"
     ]
    }
   ],
   "source": [
    "x = Product.objects.filter(price__lte=200)\n",
    "print(x.query)"
   ]
  },
  {
   "cell_type": "code",
   "execution_count": 11,
   "metadata": {},
   "outputs": [],
   "source": [
    "y = Product(name='product_y', price=17)"
   ]
  },
  {
   "cell_type": "code",
   "execution_count": 12,
   "metadata": {},
   "outputs": [
    {
     "data": {
      "text/plain": [
       "myapp.models.Product"
      ]
     },
     "execution_count": 12,
     "metadata": {},
     "output_type": "execute_result"
    }
   ],
   "source": [
    "type(y)"
   ]
  },
  {
   "cell_type": "code",
   "execution_count": 13,
   "metadata": {},
   "outputs": [],
   "source": [
    "y.save()"
   ]
  },
  {
   "cell_type": "code",
   "execution_count": 1,
   "metadata": {},
   "outputs": [],
   "source": [
    "from import_export import resources\n",
    "class ProductResource(resources.ModelResource):\n",
    "    class Meta:\n",
    "        model = Product"
   ]
  },
  {
   "cell_type": "code",
   "execution_count": 2,
   "metadata": {},
   "outputs": [],
   "source": [
    "product_resource = ProductResource()\n",
    "dataset = product_resource.export()"
   ]
  },
  {
   "cell_type": "code",
   "execution_count": 3,
   "metadata": {},
   "outputs": [
    {
     "data": {
      "text/plain": [
       "'id,name,price,category,image\\r\\n1,beef,500.00,M,beef.jpg\\r\\n2,chicken,200.00,M,chicken.png\\r\\n3,pork,350.00,M,pig.png\\r\\n4,chili,5.00,V,chili.jpg\\r\\n5,carrot,12.00,V,carrot.jpg\\r\\n6,rabbit,123.00,M,pic3.jpg\\r\\n7,product_y,17.00,M,\\r\\n'"
      ]
     },
     "execution_count": 3,
     "metadata": {},
     "output_type": "execute_result"
    }
   ],
   "source": [
    "dataset.csv"
   ]
  },
  {
   "cell_type": "code",
   "execution_count": 5,
   "metadata": {},
   "outputs": [],
   "source": [
    "with open('myexcel.xls','wb') as f:\n",
    "    f.write(dataset.xls)"
   ]
  },
  {
   "cell_type": "code",
   "execution_count": 6,
   "metadata": {},
   "outputs": [
    {
     "name": "stdout",
     "output_type": "stream",
     "text": [
      "Week5 Basic query.ipynb\n",
      "db.sqlite3\n",
      "manage.py\n",
      "media\n",
      "myapp\n",
      "myexcel.xls\n",
      "myproject\n",
      "notebook\n",
      "static\n",
      "templates\n",
      "var\n"
     ]
    }
   ],
   "source": [
    "%%sh\n",
    "ls"
   ]
  },
  {
   "cell_type": "code",
   "execution_count": null,
   "metadata": {},
   "outputs": [],
   "source": []
  }
 ],
 "metadata": {
  "kernelspec": {
   "display_name": "Django Shell-Plus",
   "language": "python",
   "name": "django_extensions"
  },
  "language_info": {
   "codemirror_mode": {
    "name": "ipython",
    "version": 3
   },
   "file_extension": ".py",
   "mimetype": "text/x-python",
   "name": "python",
   "nbconvert_exporter": "python",
   "pygments_lexer": "ipython3",
   "version": "3.6.6"
  }
 },
 "nbformat": 4,
 "nbformat_minor": 2
}
