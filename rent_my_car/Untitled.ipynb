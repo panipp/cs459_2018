{
 "cells": [
  {
   "cell_type": "code",
   "execution_count": 2,
   "metadata": {},
   "outputs": [
    {
     "name": "stdout",
     "output_type": "stream",
     "text": [
      "Panisara Prathipkomut\n"
     ]
    }
   ],
   "source": [
    "x=Rent.objects.get(pk=1)\n",
    "print(x.customer)"
   ]
  },
  {
   "cell_type": "code",
   "execution_count": 3,
   "metadata": {},
   "outputs": [
    {
     "name": "stdout",
     "output_type": "stream",
     "text": [
      "Honda Yaris\n"
     ]
    }
   ],
   "source": [
    "print(x.car)"
   ]
  },
  {
   "cell_type": "code",
   "execution_count": 4,
   "metadata": {},
   "outputs": [
    {
     "name": "stdout",
     "output_type": "stream",
     "text": [
      "Panisara Prathipkomut\n"
     ]
    }
   ],
   "source": [
    "x=Customer.objects.get(pk=1)\n",
    "print(x)"
   ]
  },
  {
   "cell_type": "code",
   "execution_count": 5,
   "metadata": {},
   "outputs": [
    {
     "data": {
      "text/plain": [
       "<QuerySet [<Rent: Rent object (1)>]>"
      ]
     },
     "execution_count": 5,
     "metadata": {},
     "output_type": "execute_result"
    }
   ],
   "source": [
    "x.rent_set.all()"
   ]
  },
  {
   "cell_type": "code",
   "execution_count": 7,
   "metadata": {},
   "outputs": [
    {
     "name": "stdout",
     "output_type": "stream",
     "text": [
      "SELECT \"myapp_rent\".\"id\", \"myapp_rent\".\"start\", \"myapp_rent\".\"stop\", \"myapp_rent\".\"cost\", \"myapp_rent\".\"customer_id\", \"myapp_rent\".\"car_id\" FROM \"myapp_rent\" WHERE \"myapp_rent\".\"customer_id\" = 1\n"
     ]
    }
   ],
   "source": [
    "print(Customer.objects.get(pk=1).rent_set.all().query)"
   ]
  },
  {
   "cell_type": "code",
   "execution_count": 8,
   "metadata": {},
   "outputs": [
    {
     "name": "stdout",
     "output_type": "stream",
     "text": [
      "SELECT \"myapp_rent\".\"id\", \"myapp_rent\".\"start\", \"myapp_rent\".\"stop\", \"myapp_rent\".\"cost\", \"myapp_rent\".\"customer_id\", \"myapp_rent\".\"car_id\" FROM \"myapp_rent\" WHERE \"myapp_rent\".\"car_id\" = 1\n"
     ]
    }
   ],
   "source": [
    "print(Car.objects.get(pk=1).rent_set.all().query)"
   ]
  },
  {
   "cell_type": "code",
   "execution_count": 9,
   "metadata": {},
   "outputs": [
    {
     "name": "stdout",
     "output_type": "stream",
     "text": [
      "Panisara Prathipkomut\n"
     ]
    }
   ],
   "source": [
    "#รถคันที่1มีใครยืมบ้าง\n",
    "for i in Car.objects.get(pk=1).rent_set.all():\n",
    "    print(i.customer)"
   ]
  },
  {
   "cell_type": "code",
   "execution_count": 10,
   "metadata": {},
   "outputs": [
    {
     "name": "stdout",
     "output_type": "stream",
     "text": [
      "Natchakorn Tirakul\n"
     ]
    }
   ],
   "source": [
    "#รถคันที่2มีใครยืมบ้าง\n",
    "for i in Car.objects.get(pk=2).rent_set.all():\n",
    "    print(i.customer)"
   ]
  },
  {
   "cell_type": "code",
   "execution_count": 14,
   "metadata": {},
   "outputs": [
    {
     "name": "stdout",
     "output_type": "stream",
     "text": [
      "Panisara Prathipkomut\n"
     ]
    }
   ],
   "source": [
    "#รถคันที่1มีใครยืมบ้าง\n",
    "for i in Rent.objects.filter(car__pk=1):\n",
    "    print(i.customer)"
   ]
  },
  {
   "cell_type": "code",
   "execution_count": 15,
   "metadata": {},
   "outputs": [
    {
     "name": "stdout",
     "output_type": "stream",
     "text": [
      "Panisara Prathipkomut\n",
      "Panisara Prathipkomut\n",
      "Panisara Prathipkomut\n",
      "Panisara Prathipkomut\n",
      "Panisara Prathipkomut\n",
      "Panisara Prathipkomut\n",
      "Panisara Prathipkomut\n",
      "3.07 ms ± 531 µs per loop (mean ± std. dev. of 7 runs, 1 loop each)\n"
     ]
    }
   ],
   "source": [
    "%%timeit -n1\n",
    "for i in Car.objects.get(pk=1).rent_set.all():\n",
    "    print(i.customer)"
   ]
  },
  {
   "cell_type": "code",
   "execution_count": 16,
   "metadata": {},
   "outputs": [
    {
     "name": "stdout",
     "output_type": "stream",
     "text": [
      "Panisara Prathipkomut\n",
      "Panisara Prathipkomut\n",
      "Panisara Prathipkomut\n",
      "Panisara Prathipkomut\n",
      "Panisara Prathipkomut\n",
      "Panisara Prathipkomut\n",
      "Panisara Prathipkomut\n",
      "2.3 ms ± 447 µs per loop (mean ± std. dev. of 7 runs, 1 loop each)\n"
     ]
    }
   ],
   "source": [
    "%%timeit -n1 #จับเวลา\n",
    "for i in Rent.objects.filter(car__pk=1):\n",
    "    print(i.customer)"
   ]
  },
  {
   "cell_type": "code",
   "execution_count": 17,
   "metadata": {},
   "outputs": [
    {
     "name": "stdout",
     "output_type": "stream",
     "text": [
      "SELECT \"myapp_rent\".\"id\", \"myapp_rent\".\"start\", \"myapp_rent\".\"stop\", \"myapp_rent\".\"cost\", \"myapp_rent\".\"customer_id\", \"myapp_rent\".\"car_id\" FROM \"myapp_rent\" WHERE \"myapp_rent\".\"car_id\" = 1\n"
     ]
    }
   ],
   "source": [
    "print(Rent.objects.filter(car__pk=1).query)"
   ]
  },
  {
   "cell_type": "code",
   "execution_count": 18,
   "metadata": {},
   "outputs": [
    {
     "name": "stdout",
     "output_type": "stream",
     "text": [
      "300.00\n"
     ]
    }
   ],
   "source": [
    "#ลูกค้าคนแรกยืมรถไปเป็นเงินทั้งหมดเท่าไหร่\n",
    "sum=0\n",
    "for i in Customer.objects.get(pk=1).rent_set.all():\n",
    "    sum+=i.cost\n",
    "print(sum)"
   ]
  },
  {
   "cell_type": "code",
   "execution_count": 20,
   "metadata": {},
   "outputs": [
    {
     "name": "stdout",
     "output_type": "stream",
     "text": [
      "560.00\n"
     ]
    }
   ],
   "source": [
    "#ลูกค้าคนที่3ยืมรถไปเป็นเงินทั้งหมดเท่าไหร่\n",
    "sum=0\n",
    "for i in Customer.objects.get(pk=3).rent_set.all():\n",
    "    sum+=i.cost\n",
    "print(sum)"
   ]
  },
  {
   "cell_type": "code",
   "execution_count": 21,
   "metadata": {},
   "outputs": [
    {
     "name": "stdout",
     "output_type": "stream",
     "text": [
      "300.00\n"
     ]
    }
   ],
   "source": [
    "#ลูกค้าคนแรกยืมรถไปเป็นเงินทั้งหมดเท่าไหร่ แบบที่2\n",
    "sum=0\n",
    "for i in Rent.objects.filter(customer__pk=1):\n",
    "    sum+=i.cost\n",
    "print(sum)"
   ]
  },
  {
   "cell_type": "code",
   "execution_count": 24,
   "metadata": {},
   "outputs": [
    {
     "data": {
      "text/plain": [
       "<QuerySet [{'customer': 1}, {'customer': 3}]>"
      ]
     },
     "execution_count": 24,
     "metadata": {},
     "output_type": "execute_result"
    }
   ],
   "source": [
    "Rent.objects.values('customer')"
   ]
  },
  {
   "cell_type": "code",
   "execution_count": 25,
   "metadata": {},
   "outputs": [
    {
     "data": {
      "text/plain": [
       "<QuerySet [{'customer': 1, 'cost__sum': Decimal('300')}, {'customer': 3, 'cost__sum': Decimal('560')}]>"
      ]
     },
     "execution_count": 25,
     "metadata": {},
     "output_type": "execute_result"
    }
   ],
   "source": [
    "Rent.objects.values('customer').annotate(Sum('cost'))"
   ]
  },
  {
   "cell_type": "code",
   "execution_count": 31,
   "metadata": {},
   "outputs": [
    {
     "data": {
      "text/plain": [
       "<QuerySet [{'customer': 1, 'cost__sum': Decimal('300')}]>"
      ]
     },
     "execution_count": 31,
     "metadata": {},
     "output_type": "execute_result"
    }
   ],
   "source": [
    "Rent.objects.filter(customer__pk=1).values('customer').annotate(Sum('cost'))"
   ]
  },
  {
   "cell_type": "code",
   "execution_count": 32,
   "metadata": {},
   "outputs": [
    {
     "name": "stdout",
     "output_type": "stream",
     "text": [
      "SELECT \"myapp_rent\".\"customer_id\", CAST(SUM(\"myapp_rent\".\"cost\") AS NUMERIC) AS \"cost__sum\" FROM \"myapp_rent\" GROUP BY \"myapp_rent\".\"customer_id\"\n"
     ]
    }
   ],
   "source": [
    "print(Rent.objects.values('customer').annotate(Sum('cost')).query)"
   ]
  },
  {
   "cell_type": "code",
   "execution_count": 33,
   "metadata": {},
   "outputs": [
    {
     "name": "stdout",
     "output_type": "stream",
     "text": [
      "SELECT \"myapp_rent\".\"customer_id\", CAST(SUM(\"myapp_rent\".\"cost\") AS NUMERIC) AS \"cost__sum\" FROM \"myapp_rent\" WHERE \"myapp_rent\".\"customer_id\" = 1 GROUP BY \"myapp_rent\".\"customer_id\"\n"
     ]
    }
   ],
   "source": [
    "print(Rent.objects.filter(customer__pk=1).values('customer').annotate(Sum('cost')).query)"
   ]
  },
  {
   "cell_type": "code",
   "execution_count": null,
   "metadata": {},
   "outputs": [],
   "source": []
  }
 ],
 "metadata": {
  "kernelspec": {
   "display_name": "Django Shell-Plus",
   "language": "python",
   "name": "django_extensions"
  },
  "language_info": {
   "codemirror_mode": {
    "name": "ipython",
    "version": 3
   },
   "file_extension": ".py",
   "mimetype": "text/x-python",
   "name": "python",
   "nbconvert_exporter": "python",
   "pygments_lexer": "ipython3",
   "version": "3.6.6"
  }
 },
 "nbformat": 4,
 "nbformat_minor": 2
}
